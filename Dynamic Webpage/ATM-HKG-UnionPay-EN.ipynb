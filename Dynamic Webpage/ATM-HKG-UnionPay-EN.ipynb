{
 "cells": [
  {
   "cell_type": "code",
   "execution_count": 1,
   "metadata": {
    "scrolled": true
   },
   "outputs": [],
   "source": [
    "# -*- python36 -*-\n",
    "\n",
    "import time\n",
    "import pandas as pd\n",
    "from bs4 import BeautifulSoup as BS\n",
    "from selenium import webdriver\n",
    "from selenium.webdriver.common.keys import Keys\n",
    "\n",
    "driver_path = \"C:/chromedriver.exe\" # 改為你的 driver 路徑\n",
    "driver = webdriver.Chrome(executable_path = driver_path)\n",
    "driver.get(\"http://www.unionpayintl.com/cardholderServ/serviceCenter/atm\")\n",
    "\n",
    "time.sleep(3)\n",
    "inputElement = driver.find_element_by_id(\"address\")\n",
    "inputElement.send_keys('香港地区')\n",
    "inputElement2 = driver.find_element_by_id(\"searchBtn\")\n",
    "inputElement2.send_keys(Keys.ENTER)\n",
    "\n",
    "records = []\n",
    "for count in range(42):\n",
    "    time.sleep(1)\n",
    "    if count != 0:\n",
    "        driver.find_element_by_xpath(\n",
    "            \"//a[@href='javascript:nextPage();']\").click()\n",
    "\n",
    "    #select = Select(driver.find_element_by_id(\"selK_ChartPeriod\"))\n",
    "    #select.select_by_value(\"365\")\n",
    "    soup = BS(driver.page_source, 'lxml')\n",
    "    table = BS(str(soup.select('table')[0]), 'html.parser')\n",
    "    count = 0\n",
    "    for tr in table.findAll(\"tr\"):\n",
    "        count = count + 1\n",
    "        record = []\n",
    "        if count > 1:\n",
    "\n",
    "            trs = tr.findAll(\"td\")\n",
    "\n",
    "            for td in trs:\n",
    "\n",
    "                record.append(str(td.text))\n",
    "            records.append(record)\n",
    "    driver.find_element_by_css_selector(\"span+ a img\").click()\n",
    "\n",
    "df = pd.DataFrame(data=records)\n",
    "col = ['area', 'city', \"bank\", \"address\", \"\", \"\"]\n",
    "df.columns = col\n",
    "writer = pd.ExcelWriter('D:/99_Work File/03_TomTom/Project/POI/MAC/ATM/Source/23_ATM_UP_HKG.xlsx')\n",
    "df.to_excel(writer, 'Sheet1')\n",
    "writer.save()\n"
   ]
  },
  {
   "cell_type": "code",
   "execution_count": null,
   "metadata": {},
   "outputs": [],
   "source": []
  }
 ],
 "metadata": {
  "kernelspec": {
   "display_name": "Python 3",
   "language": "python",
   "name": "python3"
  },
  "language_info": {
   "codemirror_mode": {
    "name": "ipython",
    "version": 3
   },
   "file_extension": ".py",
   "mimetype": "text/x-python",
   "name": "python",
   "nbconvert_exporter": "python",
   "pygments_lexer": "ipython3",
   "version": "3.8.5"
  }
 },
 "nbformat": 4,
 "nbformat_minor": 2
}
