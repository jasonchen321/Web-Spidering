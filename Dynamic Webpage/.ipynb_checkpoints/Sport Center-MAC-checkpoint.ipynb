{
 "cells": [
  {
   "cell_type": "code",
   "execution_count": 45,
   "metadata": {},
   "outputs": [
    {
     "name": "stdout",
     "output_type": "stream",
     "text": [
      "53\n",
      "0\n",
      "塔石體育館\n",
      "1\n",
      "鮑思高體育中心\n",
      "2\n",
      "no linked\n",
      "no add/phone\n",
      "3\n",
      "得勝體育中心\n",
      "4\n",
      "巴坡沙體育中心\n",
      "5\n",
      "蓮峰體育中心\n",
      "6\n",
      "南灣湖水上活動中心\n",
      "no add/phone\n",
      "7\n",
      "何賢紳士大馬路自由波地\n",
      "8\n",
      "黑沙環高利亞自由波地\n",
      "9\n",
      "黑沙環中街自由波地\n",
      "10\n",
      "孫中山泳池\n",
      "11\n",
      "新花園泳池\n",
      "12\n",
      "鴨涌河自由波地\n",
      "13\n",
      "永寧自由波地\n",
      "14\n",
      "澳門綜藝館\n",
      "15\n",
      "南灣•雅文湖畔\n",
      "16\n",
      "西灣湖景大馬路自由波地\n",
      "17\n",
      "青洲青翠自由波地\n",
      "18\n",
      "何東中葡小學綜合運動室\n",
      "19\n",
      "新橋籃球場\n",
      "20\n",
      "澳門工會聯合總會工人體育場\n",
      "21\n",
      "澳門婦女聯合總會-綜合服務大樓\n",
      "22\n",
      "鏡平中學\n",
      "23\n",
      "廣大中學\n",
      "24\n",
      "no linked\n",
      "no add/phone\n"
     ]
    },
    {
     "ename": "IndexError",
     "evalue": "list index out of range",
     "output_type": "error",
     "traceback": [
      "\u001b[1;31m---------------------------------------------------------------------------\u001b[0m",
      "\u001b[1;31mIndexError\u001b[0m                                Traceback (most recent call last)",
      "\u001b[1;32m<ipython-input-45-246bbd34fcd5>\u001b[0m in \u001b[0;36m<module>\u001b[1;34m()\u001b[0m\n\u001b[0;32m     13\u001b[0m \u001b[1;32mfor\u001b[0m \u001b[0mi\u001b[0m \u001b[1;32min\u001b[0m \u001b[0mrange\u001b[0m\u001b[1;33m(\u001b[0m\u001b[1;36m0\u001b[0m\u001b[1;33m,\u001b[0m\u001b[0mlength\u001b[0m\u001b[1;33m)\u001b[0m\u001b[1;33m:\u001b[0m\u001b[1;33m\u001b[0m\u001b[0m\n\u001b[0;32m     14\u001b[0m     \u001b[0msearch_scs\u001b[0m \u001b[1;33m=\u001b[0m \u001b[0mdriver\u001b[0m\u001b[1;33m.\u001b[0m\u001b[0mfind_elements_by_css_selector\u001b[0m\u001b[1;33m(\u001b[0m\u001b[1;34m\".venue_title\"\u001b[0m\u001b[1;33m)\u001b[0m\u001b[1;33m\u001b[0m\u001b[0m\n\u001b[1;32m---> 15\u001b[1;33m     \u001b[0msearch_sc\u001b[0m\u001b[1;33m=\u001b[0m\u001b[0msearch_scs\u001b[0m\u001b[1;33m[\u001b[0m\u001b[0mi\u001b[0m\u001b[1;33m]\u001b[0m\u001b[1;33m\u001b[0m\u001b[0m\n\u001b[0m\u001b[0;32m     16\u001b[0m     \u001b[0mprint\u001b[0m\u001b[1;33m(\u001b[0m\u001b[0mi\u001b[0m\u001b[1;33m)\u001b[0m\u001b[1;33m\u001b[0m\u001b[0m\n\u001b[0;32m     17\u001b[0m     \u001b[1;32mif\u001b[0m \u001b[1;32mTrue\u001b[0m\u001b[1;33m:\u001b[0m\u001b[1;33m\u001b[0m\u001b[0m\n",
      "\u001b[1;31mIndexError\u001b[0m: list index out of range"
     ]
    }
   ],
   "source": [
    "from selenium import webdriver\n",
    "import time\n",
    "driver_path = \"C:/chromedriver.exe\" # 改為你的 driver 路徑\n",
    "driver = webdriver.Chrome(executable_path = driver_path)\n",
    "driver.get(\"http://www.sport.gov.mo/zh/vbs/searchvenue\")\n",
    "search_scs = driver.find_elements_by_css_selector(\".venue_title\")\n",
    "length=len(search_scs)\n",
    "print(length)\n",
    "\n",
    "Name_List = []\n",
    "Info_List = []\n",
    "\n",
    "for i in range(0,length):\n",
    "    search_scs = driver.find_elements_by_css_selector(\".venue_title\")\n",
    "    search_sc=search_scs[i]\n",
    "    print(i)\n",
    "    if True:\n",
    "        #time.sleep(1)\n",
    "        #print(search_sc)\n",
    "        search_sc.click()\n",
    "\n",
    "        try:\n",
    "            sc_name = driver.find_element_by_css_selector(\"h3\")\n",
    "            #sc_info = driver.find_element_by_css_selector(\".desc_item_list\")\n",
    "            sc_n = sc_name.text\n",
    "            Name_List.append(sc_n)\n",
    "            print(sc_name.text)\n",
    "            #print(sc_info.text)    \n",
    "            #driver.back()\n",
    "        except:\n",
    "            print(\"no linked\")\n",
    "            \n",
    "        try:\n",
    "            #sc_name = driver.find_element_by_css_selector(\"h3\")\n",
    "            sc_info = driver.find_element_by_css_selector(\".desc_item_list\")\n",
    "            sc_i = sc_info.text\n",
    "            Info_List.append(sc_i)\n",
    "            #print(sc_name.text)\n",
    "            #print(sc_info.text)    \n",
    "            driver.back()\n",
    "        except:\n",
    "            print(\"no add/phone\")\n",
    "            driver.back()\n",
    "                 \n",
    "    print(Name_List)\n",
    "    print(Info_List)     \n",
    "            \n",
    "\n"
   ]
  },
  {
   "cell_type": "code",
   "execution_count": 4,
   "metadata": {},
   "outputs": [
    {
     "name": "stdout",
     "output_type": "stream",
     "text": [
      "0\n"
     ]
    }
   ],
   "source": [
    "list = []\n",
    "print(len(list))"
   ]
  },
  {
   "cell_type": "code",
   "execution_count": 98,
   "metadata": {},
   "outputs": [],
   "source": [
    "import xml.etree.ElementTree as ET"
   ]
  },
  {
   "cell_type": "code",
   "execution_count": 15,
   "metadata": {},
   "outputs": [],
   "source": [
    "import pandas as pd"
   ]
  },
  {
   "cell_type": "code",
   "execution_count": 30,
   "metadata": {},
   "outputs": [
    {
     "name": "stdout",
     "output_type": "stream",
     "text": [
      "0\n",
      "塔石體育館\n",
      "1\n",
      "鮑思高體育中心\n",
      "2\n",
      "no linked\n",
      "3\n",
      "得勝體育中心\n",
      "4\n",
      "巴坡沙體育中心\n",
      "5\n",
      "蓮峰體育中心\n",
      "6\n",
      "南灣湖水上活動中心\n",
      "7\n",
      "何賢紳士大馬路自由波地\n",
      "8\n",
      "黑沙環高利亞自由波地\n",
      "9\n",
      "黑沙環中街自由波地\n",
      "10\n",
      "孫中山泳池\n",
      "11\n",
      "新花園泳池\n",
      "12\n",
      "鴨涌河自由波地\n",
      "13\n",
      "永寧自由波地\n",
      "14\n",
      "澳門綜藝館\n",
      "15\n",
      "南灣•雅文湖畔\n",
      "16\n",
      "西灣湖景大馬路自由波地\n",
      "17\n",
      "青洲青翠自由波地\n",
      "18\n",
      "何東中葡小學綜合運動室\n",
      "19\n",
      "新橋籃球場\n",
      "20\n",
      "澳門工會聯合總會工人體育場\n",
      "21\n",
      "澳門婦女聯合總會-綜合服務大樓\n",
      "22\n",
      "鏡平中學\n",
      "23\n",
      "廣大中學\n",
      "24\n",
      "no linked\n"
     ]
    },
    {
     "ename": "IndexError",
     "evalue": "list index out of range",
     "output_type": "error",
     "traceback": [
      "\u001b[1;31m---------------------------------------------------------------------------\u001b[0m",
      "\u001b[1;31mIndexError\u001b[0m                                Traceback (most recent call last)",
      "\u001b[1;32m<ipython-input-30-e969df9758a0>\u001b[0m in \u001b[0;36m<module>\u001b[1;34m()\u001b[0m\n\u001b[0;32m     18\u001b[0m \u001b[1;32mfor\u001b[0m \u001b[0mi\u001b[0m \u001b[1;32min\u001b[0m \u001b[0mrange\u001b[0m\u001b[1;33m(\u001b[0m\u001b[1;36m0\u001b[0m\u001b[1;33m,\u001b[0m\u001b[0mlength\u001b[0m\u001b[1;33m)\u001b[0m\u001b[1;33m:\u001b[0m\u001b[1;33m\u001b[0m\u001b[0m\n\u001b[0;32m     19\u001b[0m     \u001b[0msearch_scs\u001b[0m \u001b[1;33m=\u001b[0m \u001b[0mdriver\u001b[0m\u001b[1;33m.\u001b[0m\u001b[0mfind_elements_by_css_selector\u001b[0m\u001b[1;33m(\u001b[0m\u001b[1;34m\".venue_title\"\u001b[0m\u001b[1;33m)\u001b[0m\u001b[1;33m\u001b[0m\u001b[0m\n\u001b[1;32m---> 20\u001b[1;33m     \u001b[0msearch_sc\u001b[0m\u001b[1;33m=\u001b[0m\u001b[0msearch_scs\u001b[0m\u001b[1;33m[\u001b[0m\u001b[0mi\u001b[0m\u001b[1;33m]\u001b[0m\u001b[1;33m\u001b[0m\u001b[0m\n\u001b[0m\u001b[0;32m     21\u001b[0m     \u001b[0mprint\u001b[0m\u001b[1;33m(\u001b[0m\u001b[0mi\u001b[0m\u001b[1;33m)\u001b[0m\u001b[1;33m\u001b[0m\u001b[0m\n\u001b[0;32m     22\u001b[0m     \u001b[1;32mif\u001b[0m \u001b[1;32mTrue\u001b[0m\u001b[1;33m:\u001b[0m\u001b[1;33m\u001b[0m\u001b[0m\n",
      "\u001b[1;31mIndexError\u001b[0m: list index out of range"
     ]
    }
   ],
   "source": [
    "from selenium import webdriver\n",
    "import time\n",
    "driver_path = \"C:/chromedriver.exe\" # 改為你的 driver 路徑\n",
    "driver = webdriver.Chrome(executable_path = driver_path)\n",
    "driver.get(\"http://www.sport.gov.mo/zh/vbs/searchvenue\")\n",
    "search_scs = driver.find_elements_by_css_selector(\".venue_title\")\n",
    "sc = []\n",
    "for a in search_scs:\n",
    "    atext = a.text\n",
    "    sc.append(atext)\n",
    "length=len(search_scs)\n",
    "\n",
    "Name_List = []\n",
    "Phone_List = []\n",
    "Add_List = []\n",
    "\n",
    "\n",
    "for i in range(0,length):\n",
    "    search_scs = driver.find_elements_by_css_selector(\".venue_title\")\n",
    "    search_sc=search_scs[i]\n",
    "    print(i)\n",
    "    if True:\n",
    "        #time.sleep(1)\n",
    "        #print(search_sc)\n",
    "        search_sc.click()\n",
    "\n",
    "        try:\n",
    "            sc_name = driver.find_element_by_css_selector(\"h3\")\n",
    "            #sc_info = driver.find_element_by_css_selector(\".desc_item_list\")\n",
    "            sc_n = sc_name.text\n",
    "            Name_List.append(sc_n)\n",
    "            print(sc_name.text)\n",
    "            #print(sc_info.text)    \n",
    "            #driver.back()\n",
    "\n",
    "        except:\n",
    "            Name_List.append('')\n",
    "            print(\"no linked\")\n",
    "            \n",
    "        try:\n",
    "            #sc_name = driver.find_element_by_css_selector(\"h3\")\n",
    "            sc_info = driver.find_elements_by_css_selector(\".desc_item_list\")\n",
    "            if len(sc_info) == 2:    \n",
    "                for j in sc_info:\n",
    "                    J = j.text\n",
    "                    if \"電話\" in J:\n",
    "                        Phone_List.append(J)\n",
    "                    else:\n",
    "                        Add_List.append(J)\n",
    "            elif len(sc_info) == 1:\n",
    "                 for k in sc_info:\n",
    "                    K = k.text\n",
    "                    if \"電話\" in K:\n",
    "                        Phone_List.append(K)\n",
    "                        Add_List.append('')\n",
    "                    else:\n",
    "                        Add_List.append(K)\n",
    "                        Phone_List.append('')\n",
    "            else:\n",
    "                Add_List.append('')\n",
    "                Phone_List.append('')\n",
    "\n",
    "            #print(sc_name.text)\n",
    "            #print(sc_info.text)\n",
    "            driver.back()\n",
    "        except:\n",
    "            Phone_List.append('')\n",
    "            Add_List.append('')\n",
    "            print(\"no add/phone\")\n",
    "            driver.back()\n",
    "\n",
    "print(Name_List)\n",
    "print(Info_List)     \n",
    "            \n",
    "\n"
   ]
  },
  {
   "cell_type": "code",
   "execution_count": 10,
   "metadata": {
    "scrolled": true
   },
   "outputs": [
    {
     "name": "stdout",
     "output_type": "stream",
     "text": [
      "['塔石體育館', '鮑思高體育中心', '', '得勝體育中心', '巴坡沙體育中心', '蓮峰體育中心', '南灣湖水上活動中心', '何賢紳士大馬路自由波地', '黑沙環高利亞自由波地', '黑沙環中街自由波地', '孫中山泳池', '新花園泳池', '鴨涌河自由波地', '永寧自由波地', '澳門綜藝館', '南灣•雅文湖畔', '西灣湖景大馬路自由波地', '青洲青翠自由波地', '何東中葡小學綜合運動室', '新橋籃球場', '澳門工會聯合總會工人體育場', '澳門婦女聯合總會-綜合服務大樓', '鏡平中學', '廣大中學', '']\n",
      "['電話: (853) 2852 2021 / 2852 2023', '電話: (853) 2871 9869', '', '電話: (853) 2853 0741', '電話: (853) 2823 8727', '電話: (853) 2857 0466', '', '', '', '', '電話: (853) 2823 0835', '電話: (853) 2858 0746', '', '', '', '電話: (853) 2853 2021', '', '', '電話: (853)2852 2862', '電話: (853) 2832 4622', '電話: (853) 2843 6108', '電話: (853) 2821 6862', '電話: (853) 2842 3118 / 2842 3119', '電話: (853) 2836 7585', '']\n",
      "['地址: 澳門東望洋街', '地址: 亞馬喇馬路6號', '', '地址: 澳門得勝馬路6號', '地址: 台山李寶樁街', '地址: 罅些喇提督大馬路', '', '地址: 何賢紳士大馬路﹙聖德蘭學校對面﹚', '地址: 高利亞海軍上將大馬路﹙Shell油站側﹚', '地址: 黑沙環中街 (浸信學校側)', '地址: 紀念孫中山市政公園', '地址: 澳門得勝馬路', '地址: 鴨涌馬路（鴨涌河變電站側）', '地址: 黑沙環永寧廣場﹙鏡平學校側﹚', '地址: 新口岸畢仕達大馬路', '地址: 南灣湖景大馬路', '地址: 西灣湖景大馬路', '地址: 青洲河邊馬路', '地址: 澳門得勝馬路', '地址: 澳門新橋打纜前地8號地下', '地址: 澳門關閘馬路', '地址: 澳門渡船街27號婦聯綜合服務大樓', '地址: 馬場大馬路389號', '地址: 澳門筷子基街筷子基社屋旁', '']\n"
     ]
    }
   ],
   "source": [
    "print(Name_List)\n",
    "print(Phone_List)\n",
    "print(Add_List) "
   ]
  },
  {
   "cell_type": "code",
   "execution_count": 11,
   "metadata": {},
   "outputs": [
    {
     "data": {
      "text/plain": [
       "25"
      ]
     },
     "execution_count": 11,
     "metadata": {},
     "output_type": "execute_result"
    }
   ],
   "source": [
    "len(Name_List)"
   ]
  },
  {
   "cell_type": "code",
   "execution_count": 12,
   "metadata": {
    "scrolled": true
   },
   "outputs": [
    {
     "data": {
      "text/plain": [
       "25"
      ]
     },
     "execution_count": 12,
     "metadata": {},
     "output_type": "execute_result"
    }
   ],
   "source": [
    "len(Phone_List)"
   ]
  },
  {
   "cell_type": "code",
   "execution_count": 13,
   "metadata": {},
   "outputs": [
    {
     "data": {
      "text/plain": [
       "25"
      ]
     },
     "execution_count": 13,
     "metadata": {},
     "output_type": "execute_result"
    }
   ],
   "source": [
    "len(Add_List)"
   ]
  },
  {
   "cell_type": "code",
   "execution_count": 22,
   "metadata": {},
   "outputs": [],
   "source": [
    "a = pd.DataFrame(columns = ['名稱','地址','電話'])"
   ]
  },
  {
   "cell_type": "code",
   "execution_count": 24,
   "metadata": {},
   "outputs": [],
   "source": [
    "a['名稱']=Name_List"
   ]
  },
  {
   "cell_type": "code",
   "execution_count": 25,
   "metadata": {},
   "outputs": [],
   "source": [
    "a['電話']=Phone_List"
   ]
  },
  {
   "cell_type": "code",
   "execution_count": 26,
   "metadata": {},
   "outputs": [],
   "source": [
    "a['地址']=Add_List"
   ]
  },
  {
   "cell_type": "code",
   "execution_count": 27,
   "metadata": {},
   "outputs": [
    {
     "data": {
      "text/html": [
       "<div>\n",
       "<style scoped>\n",
       "    .dataframe tbody tr th:only-of-type {\n",
       "        vertical-align: middle;\n",
       "    }\n",
       "\n",
       "    .dataframe tbody tr th {\n",
       "        vertical-align: top;\n",
       "    }\n",
       "\n",
       "    .dataframe thead th {\n",
       "        text-align: right;\n",
       "    }\n",
       "</style>\n",
       "<table border=\"1\" class=\"dataframe\">\n",
       "  <thead>\n",
       "    <tr style=\"text-align: right;\">\n",
       "      <th></th>\n",
       "      <th>名稱</th>\n",
       "      <th>地址</th>\n",
       "      <th>電話</th>\n",
       "    </tr>\n",
       "  </thead>\n",
       "  <tbody>\n",
       "    <tr>\n",
       "      <th>0</th>\n",
       "      <td>塔石體育館</td>\n",
       "      <td>地址: 澳門東望洋街</td>\n",
       "      <td>電話: (853) 2852 2021 / 2852 2023</td>\n",
       "    </tr>\n",
       "    <tr>\n",
       "      <th>1</th>\n",
       "      <td>鮑思高體育中心</td>\n",
       "      <td>地址: 亞馬喇馬路6號</td>\n",
       "      <td>電話: (853) 2871 9869</td>\n",
       "    </tr>\n",
       "    <tr>\n",
       "      <th>2</th>\n",
       "      <td></td>\n",
       "      <td></td>\n",
       "      <td></td>\n",
       "    </tr>\n",
       "    <tr>\n",
       "      <th>3</th>\n",
       "      <td>得勝體育中心</td>\n",
       "      <td>地址: 澳門得勝馬路6號</td>\n",
       "      <td>電話: (853) 2853 0741</td>\n",
       "    </tr>\n",
       "    <tr>\n",
       "      <th>4</th>\n",
       "      <td>巴坡沙體育中心</td>\n",
       "      <td>地址: 台山李寶樁街</td>\n",
       "      <td>電話: (853) 2823 8727</td>\n",
       "    </tr>\n",
       "    <tr>\n",
       "      <th>5</th>\n",
       "      <td>蓮峰體育中心</td>\n",
       "      <td>地址: 罅些喇提督大馬路</td>\n",
       "      <td>電話: (853) 2857 0466</td>\n",
       "    </tr>\n",
       "    <tr>\n",
       "      <th>6</th>\n",
       "      <td>南灣湖水上活動中心</td>\n",
       "      <td></td>\n",
       "      <td></td>\n",
       "    </tr>\n",
       "    <tr>\n",
       "      <th>7</th>\n",
       "      <td>何賢紳士大馬路自由波地</td>\n",
       "      <td>地址: 何賢紳士大馬路﹙聖德蘭學校對面﹚</td>\n",
       "      <td></td>\n",
       "    </tr>\n",
       "    <tr>\n",
       "      <th>8</th>\n",
       "      <td>黑沙環高利亞自由波地</td>\n",
       "      <td>地址: 高利亞海軍上將大馬路﹙Shell油站側﹚</td>\n",
       "      <td></td>\n",
       "    </tr>\n",
       "    <tr>\n",
       "      <th>9</th>\n",
       "      <td>黑沙環中街自由波地</td>\n",
       "      <td>地址: 黑沙環中街 (浸信學校側)</td>\n",
       "      <td></td>\n",
       "    </tr>\n",
       "    <tr>\n",
       "      <th>10</th>\n",
       "      <td>孫中山泳池</td>\n",
       "      <td>地址: 紀念孫中山市政公園</td>\n",
       "      <td>電話: (853) 2823 0835</td>\n",
       "    </tr>\n",
       "    <tr>\n",
       "      <th>11</th>\n",
       "      <td>新花園泳池</td>\n",
       "      <td>地址: 澳門得勝馬路</td>\n",
       "      <td>電話: (853) 2858 0746</td>\n",
       "    </tr>\n",
       "    <tr>\n",
       "      <th>12</th>\n",
       "      <td>鴨涌河自由波地</td>\n",
       "      <td>地址: 鴨涌馬路（鴨涌河變電站側）</td>\n",
       "      <td></td>\n",
       "    </tr>\n",
       "    <tr>\n",
       "      <th>13</th>\n",
       "      <td>永寧自由波地</td>\n",
       "      <td>地址: 黑沙環永寧廣場﹙鏡平學校側﹚</td>\n",
       "      <td></td>\n",
       "    </tr>\n",
       "    <tr>\n",
       "      <th>14</th>\n",
       "      <td>澳門綜藝館</td>\n",
       "      <td>地址: 新口岸畢仕達大馬路</td>\n",
       "      <td></td>\n",
       "    </tr>\n",
       "    <tr>\n",
       "      <th>15</th>\n",
       "      <td>南灣•雅文湖畔</td>\n",
       "      <td>地址: 南灣湖景大馬路</td>\n",
       "      <td>電話: (853) 2853 2021</td>\n",
       "    </tr>\n",
       "    <tr>\n",
       "      <th>16</th>\n",
       "      <td>西灣湖景大馬路自由波地</td>\n",
       "      <td>地址: 西灣湖景大馬路</td>\n",
       "      <td></td>\n",
       "    </tr>\n",
       "    <tr>\n",
       "      <th>17</th>\n",
       "      <td>青洲青翠自由波地</td>\n",
       "      <td>地址: 青洲河邊馬路</td>\n",
       "      <td></td>\n",
       "    </tr>\n",
       "    <tr>\n",
       "      <th>18</th>\n",
       "      <td>何東中葡小學綜合運動室</td>\n",
       "      <td>地址: 澳門得勝馬路</td>\n",
       "      <td>電話: (853)2852 2862</td>\n",
       "    </tr>\n",
       "    <tr>\n",
       "      <th>19</th>\n",
       "      <td>新橋籃球場</td>\n",
       "      <td>地址: 澳門新橋打纜前地8號地下</td>\n",
       "      <td>電話: (853) 2832 4622</td>\n",
       "    </tr>\n",
       "    <tr>\n",
       "      <th>20</th>\n",
       "      <td>澳門工會聯合總會工人體育場</td>\n",
       "      <td>地址: 澳門關閘馬路</td>\n",
       "      <td>電話: (853) 2843 6108</td>\n",
       "    </tr>\n",
       "    <tr>\n",
       "      <th>21</th>\n",
       "      <td>澳門婦女聯合總會-綜合服務大樓</td>\n",
       "      <td>地址: 澳門渡船街27號婦聯綜合服務大樓</td>\n",
       "      <td>電話: (853) 2821 6862</td>\n",
       "    </tr>\n",
       "    <tr>\n",
       "      <th>22</th>\n",
       "      <td>鏡平中學</td>\n",
       "      <td>地址: 馬場大馬路389號</td>\n",
       "      <td>電話: (853) 2842 3118 / 2842 3119</td>\n",
       "    </tr>\n",
       "    <tr>\n",
       "      <th>23</th>\n",
       "      <td>廣大中學</td>\n",
       "      <td>地址: 澳門筷子基街筷子基社屋旁</td>\n",
       "      <td>電話: (853) 2836 7585</td>\n",
       "    </tr>\n",
       "    <tr>\n",
       "      <th>24</th>\n",
       "      <td></td>\n",
       "      <td></td>\n",
       "      <td></td>\n",
       "    </tr>\n",
       "  </tbody>\n",
       "</table>\n",
       "</div>"
      ],
      "text/plain": [
       "                 名稱                        地址                               電話\n",
       "0             塔石體育館                地址: 澳門東望洋街  電話: (853) 2852 2021 / 2852 2023\n",
       "1           鮑思高體育中心               地址: 亞馬喇馬路6號              電話: (853) 2871 9869\n",
       "2                                                                             \n",
       "3            得勝體育中心              地址: 澳門得勝馬路6號              電話: (853) 2853 0741\n",
       "4           巴坡沙體育中心                地址: 台山李寶樁街              電話: (853) 2823 8727\n",
       "5            蓮峰體育中心              地址: 罅些喇提督大馬路              電話: (853) 2857 0466\n",
       "6         南灣湖水上活動中心                                                           \n",
       "7       何賢紳士大馬路自由波地      地址: 何賢紳士大馬路﹙聖德蘭學校對面﹚                                 \n",
       "8        黑沙環高利亞自由波地  地址: 高利亞海軍上將大馬路﹙Shell油站側﹚                                 \n",
       "9         黑沙環中街自由波地         地址: 黑沙環中街 (浸信學校側)                                 \n",
       "10            孫中山泳池             地址: 紀念孫中山市政公園              電話: (853) 2823 0835\n",
       "11            新花園泳池                地址: 澳門得勝馬路              電話: (853) 2858 0746\n",
       "12          鴨涌河自由波地         地址: 鴨涌馬路（鴨涌河變電站側）                                 \n",
       "13           永寧自由波地        地址: 黑沙環永寧廣場﹙鏡平學校側﹚                                 \n",
       "14            澳門綜藝館             地址: 新口岸畢仕達大馬路                                 \n",
       "15          南灣•雅文湖畔               地址: 南灣湖景大馬路              電話: (853) 2853 2021\n",
       "16      西灣湖景大馬路自由波地               地址: 西灣湖景大馬路                                 \n",
       "17         青洲青翠自由波地                地址: 青洲河邊馬路                                 \n",
       "18      何東中葡小學綜合運動室                地址: 澳門得勝馬路               電話: (853)2852 2862\n",
       "19            新橋籃球場          地址: 澳門新橋打纜前地8號地下              電話: (853) 2832 4622\n",
       "20    澳門工會聯合總會工人體育場                地址: 澳門關閘馬路              電話: (853) 2843 6108\n",
       "21  澳門婦女聯合總會-綜合服務大樓      地址: 澳門渡船街27號婦聯綜合服務大樓              電話: (853) 2821 6862\n",
       "22             鏡平中學             地址: 馬場大馬路389號  電話: (853) 2842 3118 / 2842 3119\n",
       "23             廣大中學          地址: 澳門筷子基街筷子基社屋旁              電話: (853) 2836 7585\n",
       "24                                                                            "
      ]
     },
     "execution_count": 27,
     "metadata": {},
     "output_type": "execute_result"
    }
   ],
   "source": [
    "a"
   ]
  },
  {
   "cell_type": "code",
   "execution_count": 29,
   "metadata": {},
   "outputs": [],
   "source": [
    "writer = pd.ExcelWriter('C:/Users/chenyit/Documents/01_TomTom/00_Project/POI/HKG/Source Data/SC_LCSD_MAC_bak.xlsx')\n",
    "a.to_excel(writer,'Sheet1')\n",
    "writer.save()"
   ]
  },
  {
   "cell_type": "code",
   "execution_count": 31,
   "metadata": {},
   "outputs": [
    {
     "data": {
      "text/plain": [
       "['塔石體育館',\n",
       " '鮑思高體育中心',\n",
       " '望廈體育館 (重建中)',\n",
       " '得勝體育中心',\n",
       " '巴坡沙體育中心',\n",
       " '蓮峰體育中心',\n",
       " '南灣湖水上活動中心',\n",
       " '何賢紳士大馬路自由波地',\n",
       " '黑沙環高利亞自由波地',\n",
       " '黑沙環中街自由波地',\n",
       " '孫中山泳池',\n",
       " '新花園泳池',\n",
       " '鴨涌河自由波地',\n",
       " '永寧自由波地',\n",
       " '澳門綜藝館',\n",
       " '南灣•雅文湖畔',\n",
       " '西灣湖景大馬路自由波地',\n",
       " '青洲青翠自由波地',\n",
       " '何東中葡小學綜合運動室',\n",
       " '新橋籃球場 (合作伙伴)',\n",
       " '澳門工會聯合總會工人體育場 (合作伙伴)',\n",
       " '澳門婦女聯合總會-綜合服務大樓 (合作伙伴)',\n",
       " '鏡平中學 (合作伙伴)',\n",
       " '廣大中學 (合作伙伴)',\n",
       " '奧林匹克體育中心',\n",
       " '嘉模泳池',\n",
       " '運動培訓中心',\n",
       " '氹仔東北體育中心',\n",
       " '氹仔中央公園泳池',\n",
       " '氹仔中央公園自由波地',\n",
       " '湖畔大廈自由波地',\n",
       " '澳大運動場及綜合體育館',\n",
       " '澳門工聯氹仔湖畔綜合服務中心 (合作伙伴)',\n",
       " '濠江中學附屬英才學校 (合作伙伴)',\n",
       " '澳門東亞運動會體育館',\n",
       " '國際射擊中心',\n",
       " '網球學校',\n",
       " '保齡球中心',\n",
       " '竹灣水上活動中心',\n",
       " '黑沙水上活動中心',\n",
       " '路環小型賽車場',\n",
       " '黑沙公園泳池及體育設施',\n",
       " '黑沙海灘自由波地',\n",
       " '竹灣泳池',\n",
       " '黑沙村自由波地',\n",
       " '',\n",
       " '',\n",
       " '',\n",
       " '',\n",
       " '',\n",
       " '',\n",
       " '',\n",
       " '']"
      ]
     },
     "execution_count": 31,
     "metadata": {},
     "output_type": "execute_result"
    }
   ],
   "source": [
    "sc"
   ]
  },
  {
   "cell_type": "code",
   "execution_count": null,
   "metadata": {},
   "outputs": [],
   "source": []
  }
 ],
 "metadata": {
  "kernelspec": {
   "display_name": "Python 3",
   "language": "python",
   "name": "python3"
  },
  "language_info": {
   "codemirror_mode": {
    "name": "ipython",
    "version": 3
   },
   "file_extension": ".py",
   "mimetype": "text/x-python",
   "name": "python",
   "nbconvert_exporter": "python",
   "pygments_lexer": "ipython3",
   "version": "3.8.5"
  }
 },
 "nbformat": 4,
 "nbformat_minor": 2
}
