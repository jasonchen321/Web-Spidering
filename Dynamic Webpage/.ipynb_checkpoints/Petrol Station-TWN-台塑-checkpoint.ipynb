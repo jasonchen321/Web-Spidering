{
 "cells": [
  {
   "cell_type": "code",
   "execution_count": 23,
   "metadata": {},
   "outputs": [],
   "source": [
    "from selenium import webdriver\n",
    "\n",
    "driver_path = \"C:/chromedriver.exe\" # 改為你的 driver 路徑\n",
    "driver = webdriver.Chrome(executable_path = driver_path)\n",
    "driver.get(\"http://www.fpcc.com.tw/tc/station.php?region=5&county=1&ctype=0&page=1\")\n",
    "\n"
   ]
  },
  {
   "cell_type": "code",
   "execution_count": 29,
   "metadata": {},
   "outputs": [
    {
     "ename": "AttributeError",
     "evalue": "'list' object has no attribute 'click'",
     "output_type": "error",
     "traceback": [
      "\u001b[1;31m---------------------------------------------------------------------------\u001b[0m",
      "\u001b[1;31mAttributeError\u001b[0m                            Traceback (most recent call last)",
      "\u001b[1;32m<ipython-input-29-bb91e3b4ef7d>\u001b[0m in \u001b[0;36m<module>\u001b[1;34m()\u001b[0m\n\u001b[0;32m      7\u001b[0m         \u001b[0mcontent\u001b[0m\u001b[1;33m.\u001b[0m\u001b[0mappend\u001b[0m\u001b[1;33m(\u001b[0m\u001b[0mtxt\u001b[0m\u001b[1;33m)\u001b[0m\u001b[1;33m\u001b[0m\u001b[0m\n\u001b[0;32m      8\u001b[0m     \u001b[0mnext\u001b[0m \u001b[1;33m=\u001b[0m \u001b[0mdriver\u001b[0m\u001b[1;33m.\u001b[0m\u001b[0mfind_elements_by_css_selector\u001b[0m\u001b[1;33m(\u001b[0m\u001b[1;34m\".next\"\u001b[0m\u001b[1;33m)\u001b[0m\u001b[1;33m\u001b[0m\u001b[0m\n\u001b[1;32m----> 9\u001b[1;33m     \u001b[0mnext\u001b[0m\u001b[1;33m.\u001b[0m\u001b[0mclick\u001b[0m\u001b[1;33m(\u001b[0m\u001b[1;33m)\u001b[0m\u001b[1;33m\u001b[0m\u001b[0m\n\u001b[0m\u001b[0;32m     10\u001b[0m \u001b[1;33m\u001b[0m\u001b[0m\n",
      "\u001b[1;31mAttributeError\u001b[0m: 'list' object has no attribute 'click'"
     ]
    }
   ],
   "source": [
    "content = []\n",
    "page = 2\n",
    "for p in range(page):\n",
    "    allm = driver.find_elements_by_css_selector(\"td:nth-child(4) , td:nth-child(3) , td:nth-child(1)\")\n",
    "    for i in allm:\n",
    "        txt = i.text\n",
    "        content.append(txt)\n",
    "    next = driver.find_elements_by_css_selector(\".next\")\n",
    "    next.click()\n",
    "    "
   ]
  },
  {
   "cell_type": "code",
   "execution_count": 17,
   "metadata": {},
   "outputs": [],
   "source": [
    "content = []\n",
    "for i in allm:\n",
    "    txt = i.text\n",
    "    content.append(txt)\n",
    "    "
   ]
  },
  {
   "cell_type": "code",
   "execution_count": 19,
   "metadata": {},
   "outputs": [
    {
     "data": {
      "text/plain": [
       "['台亞松山機場站',\n",
       " '松山區敦化北路342之1號',\n",
       " '02-25457180',\n",
       " '全國撫遠站',\n",
       " '松山區塔悠路99號',\n",
       " '02-27670389',\n",
       " '勝利站',\n",
       " '大安區建國南路二段75-1號',\n",
       " '02-27555499',\n",
       " '台亞堤頂交流道站',\n",
       " '內湖區舊宗路二段111號',\n",
       " '02-87913478',\n",
       " '全國文德站',\n",
       " '內湖區民權東路六段10號',\n",
       " '02-27938806',\n",
       " '全國民權站',\n",
       " '內湖區民權東路六段20號',\n",
       " '02-87922326',\n",
       " '全國港墘路站',\n",
       " '內湖區港墘路250號',\n",
       " '02-26598405',\n",
       " '西歐自強站',\n",
       " '內湖區內湖路一段146號',\n",
       " '02-26279311',\n",
       " '全國南港站',\n",
       " '南港區南港路3段49號',\n",
       " '02-27828306',\n",
       " '西歐大直橋站',\n",
       " '中山區濱江街333號',\n",
       " '02-25033166']"
      ]
     },
     "execution_count": 19,
     "metadata": {},
     "output_type": "execute_result"
    }
   ],
   "source": [
    "content[15:]"
   ]
  },
  {
   "cell_type": "code",
   "execution_count": null,
   "metadata": {},
   "outputs": [],
   "source": []
  }
 ],
 "metadata": {
  "kernelspec": {
   "display_name": "Python 3",
   "language": "python",
   "name": "python3"
  },
  "language_info": {
   "codemirror_mode": {
    "name": "ipython",
    "version": 3
   },
   "file_extension": ".py",
   "mimetype": "text/x-python",
   "name": "python",
   "nbconvert_exporter": "python",
   "pygments_lexer": "ipython3",
   "version": "3.8.5"
  }
 },
 "nbformat": 4,
 "nbformat_minor": 2
}
