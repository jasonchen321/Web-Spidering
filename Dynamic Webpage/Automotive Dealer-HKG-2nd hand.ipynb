{
 "cells": [
  {
   "cell_type": "code",
   "execution_count": 91,
   "metadata": {},
   "outputs": [],
   "source": [
    "import pandas as pd"
   ]
  },
  {
   "cell_type": "code",
   "execution_count": 89,
   "metadata": {
    "scrolled": true
   },
   "outputs": [],
   "source": [
    "from selenium import webdriver\n",
    "\n",
    "driver_path = \"C:/chromedriver.exe\" # 改為你的 driver 路徑\n",
    "driver = webdriver.Chrome(executable_path = driver_path)\n",
    "\n",
    "page = 8\n",
    "Title = []\n",
    "Address = []\n",
    "Tel = []\n",
    "URL = []\n",
    "EMail = []\n",
    "for i in range(1,page+1):\n",
    "    driver.get(\"http://www.rhdmotors.com.hk/about-member?page=\"+str(i))\n",
    "    title = driver.find_elements_by_css_selector(\".user-list-title\")\n",
    "    title = [x.text for x in title]\n",
    "    addre = driver.find_elements_by_css_selector(\".clearfix:nth-child(8) span\")\n",
    "    addre = [x.text for x in addre]\n",
    "    phone = driver.find_elements_by_css_selector(\".clearfix:nth-child(5) span\")\n",
    "    phone = [x.text for x in phone]\n",
    "    web = driver.find_elements_by_css_selector(\".user-list-detail a\")\n",
    "    web = [x.text for x in web]\n",
    "    mail = driver.find_elements_by_css_selector(\".user-list-detail:nth-child(4) span\")\n",
    "    mail = [x.text for x in mail]\n",
    "    for j in title:\n",
    "        Title.append(j)\n",
    "    for j in addre:\n",
    "        Address.append(j)\n",
    "    for j in phone:\n",
    "        Tel.append(j)\n",
    "    for j in web:\n",
    "        URL.append(j)\n",
    "    for j in mail:\n",
    "        EMail.append(j)"
   ]
  },
  {
   "cell_type": "code",
   "execution_count": 92,
   "metadata": {},
   "outputs": [],
   "source": [
    "df = pd.DataFrame({\"Title\":Title,\"Address\":Address,\"Tel\":Tel,\"URL\":URL,\"E-mail\":EMail},columns=[\"Title\",\"Address\",\"Tel\",\"URL\",\"E-mail\"])"
   ]
  },
  {
   "cell_type": "code",
   "execution_count": 95,
   "metadata": {},
   "outputs": [],
   "source": [
    "df.to_excel('C:\\\\Users\\\\chenyit\\\\OneDrive - TomTom\\\\Documents\\\\01_TomTom\\\\00_Project\\\\01_POI\\\\13_PSSR\\\\MN2106_Low Hanging Fruit\\\\HKG\\\\small_car.xlsx')"
   ]
  },
  {
   "cell_type": "code",
   "execution_count": null,
   "metadata": {},
   "outputs": [],
   "source": []
  }
 ],
 "metadata": {
  "kernelspec": {
   "display_name": "Python 3",
   "language": "python",
   "name": "python3"
  },
  "language_info": {
   "codemirror_mode": {
    "name": "ipython",
    "version": 3
   },
   "file_extension": ".py",
   "mimetype": "text/x-python",
   "name": "python",
   "nbconvert_exporter": "python",
   "pygments_lexer": "ipython3",
   "version": "3.8.5"
  }
 },
 "nbformat": 4,
 "nbformat_minor": 4
}
