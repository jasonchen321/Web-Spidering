{
 "cells": [
  {
   "cell_type": "code",
   "execution_count": 6,
   "metadata": {},
   "outputs": [],
   "source": [
    "from bs4 import BeautifulSoup"
   ]
  },
  {
   "cell_type": "code",
   "execution_count": 61,
   "metadata": {},
   "outputs": [],
   "source": [
    "import pandas as pd"
   ]
  },
  {
   "cell_type": "code",
   "execution_count": 4,
   "metadata": {},
   "outputs": [],
   "source": [
    "html = \"\"\"<table><tr><td class=\"selected office\" bid=\"ecap\" latlng=\"22.193341,113.540032\">郵政總局</td><td class=\" office\" bid=\"campo\" latlng=\"22.194153,113.543846\">水坑尾郵政分局</td><tr><td class=\" office\" bid=\"lacerda\" latlng=\"22.206105,113.545332\">紅街市郵政分局</td><td class=\" office\" bid=\"fck\" latlng=\"22.207614, 113.542484\">筷子基郵政分局</td><tr><td class=\" office\" bid=\"mongha\" latlng=\"22.207257,113.552058\">望廈郵政分局</td><td class=\" office\" bid=\"preta\" latlng=\"22.211206,113.54943\">黑沙環郵政分局</td><tr><td class=\" office\" bid=\"cultural\" latlng=\"22.188493,113.554644\">文化中心郵政分局</td><td class=\" office\" bid=\"terminal\" latlng=\"22.197091,113.558914\">碼頭郵政分局</td><tr><td class=\" office\" bid=\"tradic\" latlng=\"22.203473,113.556007\">郵政交換中心</td><td class=\" office\" bid=\"muse\" latlng=\"22.203269,113.554902\">通訊博物館商店</td><tr><td class=\" office\" bid=\"aeroporto\" latlng=\"22.157291,113.573847\">機場郵政分局</td><td class=\" office\" bid=\"ntaipa\" latlng=\"22.158883,113.552641\">濠景郵政分局</td><tr><td class=\" office\" bid=\"oceano\" latlng=\"22.161367,113.543027\">海洋花園郵政分局</td><td class=\" office\" bid=\"carmo\" latlng=\"22.152916,113.558177\">嘉模郵政分局 (前氹仔郵政分局)</td><tr><td class=\" office\" bid=\"teta\" latlng=\"22.162623, 113.577874\">氹仔碼頭郵政分局</td><td class=\" office\" bid=\"coloane\" latlng=\"22.117305,113.552179\">路環郵政分局</td><tr><td class=\" office\" bid=\"seacpaivan\" latlng=\"22.129184, 113.563919\">石排灣郵政分局</td><td class=\" office\" bid=\"umac\" latlng=\"22.12430736953878,113.5444602370262\">澳門大學郵政分局</td></tr></table>\"\"\""
   ]
  },
  {
   "cell_type": "code",
   "execution_count": 7,
   "metadata": {},
   "outputs": [],
   "source": [
    "soup = BeautifulSoup(html, 'html.parser')"
   ]
  },
  {
   "cell_type": "code",
   "execution_count": 57,
   "metadata": {},
   "outputs": [],
   "source": [
    "#print(soup.prettify())"
   ]
  },
  {
   "cell_type": "code",
   "execution_count": 15,
   "metadata": {},
   "outputs": [],
   "source": [
    "PO_List = soup.find_all('td')"
   ]
  },
  {
   "cell_type": "code",
   "execution_count": 20,
   "metadata": {},
   "outputs": [],
   "source": [
    "PO_Name = []\n",
    "PO_Coor = []\n",
    "for i in PO_List:\n",
    "    i_text = i.string\n",
    "    i_Coor = i.get('latlng')\n",
    "    PO_Name.append(i_text)\n",
    "    PO_Coor.append(i_Coor)"
   ]
  },
  {
   "cell_type": "code",
   "execution_count": 22,
   "metadata": {},
   "outputs": [],
   "source": [
    "html_detail = \"\"\"<div class=\"post-item clearfix\" bid=\"ecap\"><div class=\"desc\">郵政總局</div><div class=\"address\">澳門議事亭前地郵電局總部大樓<br />電話: 2832 3666 </div><div class=\"office-hour\"><div class=\"oh\">辦公時間: </div><div class=\"date\"><div class=\"w\">星期一至五</div><div class=\"t\">09:00 至 18:00</div><br /><div class=\"w\">星期六</div><div class=\"t\">09:00 至 13:00</div></div></div><div class=\"services clearfix\"><div class=\"t\">服務: </div><div class=\"ss\"><div class=\"s\">郵政信箱</div><div class=\"s\">郵政服務</div><div class=\"s\">特快專遞</div><div class=\"s\">集郵品</div><div class=\"s\">包裹</div><div class=\"s\">繳費易</div></div></div></div><div class=\"post-item clearfix\" bid=\"campo\"><div class=\"desc\">水坑尾郵政分局</div><div class=\"address\">澳門水坑尾街162號公共行政大樓地下<br />電話: 2832 9334</div><div class=\"office-hour\"><div class=\"oh\">辦公時間: </div><div class=\"date\"><div class=\"w\">星期一至五</div><div class=\"t\">08:30 至 19:00</div></div></div><div class=\"services clearfix\"><div class=\"t\">服務: </div><div class=\"ss\"><div class=\"s\">郵政服務</div><div class=\"s\">特快專遞</div><div class=\"s\">集郵品</div><div class=\"s\">包裹</div><div class=\"s\">繳費易</div></div></div></div><div class=\"post-item clearfix\" bid=\"lacerda\"><div class=\"desc\">紅街市郵政分局</div><div class=\"address\">澳門雅廉訪大馬路92號地下<br />電話: 2857 2329</div><div class=\"office-hour\"><div class=\"oh\">辦公時間: </div><div class=\"date\"><div class=\"w\">星期一至五</div><div class=\"t\">09:00 至 18:00</div><br /><div class=\"w\">星期六</div><div class=\"t\">09:00 至 13:00</div></div></div><div class=\"services clearfix\"><div class=\"t\">服務: </div><div class=\"ss\"><div class=\"s\">郵政信箱</div><div class=\"s\">郵政服務</div><div class=\"s\">特快專遞</div><div class=\"s\">集郵品</div><div class=\"s\">包裹</div><div class=\"s\">繳費易</div><div class=\"s\">匯款</div></div></div></div><div class=\"post-item clearfix\" bid=\"fck\"><div class=\"desc\">筷子基郵政分局</div><div class=\"address\">澳門沙梨頭南街筷子基社屋快達樓地下A舖<br />電話: 2857 5818</div><div class=\"office-hour\"><div class=\"oh\">辦公時間: </div><div class=\"date\"><div class=\"w\">星期一至五</div><div class=\"t\">09:00 至 18:00</div><br /><div class=\"w\">星期六</div><div class=\"t\">09:00 至 13:00</div></div></div><div class=\"services clearfix\"><div class=\"t\">服務: </div><div class=\"ss\"><div class=\"s\">郵政服務</div><div class=\"s\">特快專遞</div><div class=\"s\">集郵品</div><div class=\"s\">包裹</div><div class=\"s\">繳費易</div></div></div></div><div class=\"post-item clearfix\" bid=\"mongha\"><div class=\"desc\">望廈郵政分局</div><div class=\"address\">澳門慕拉士大馬路178-182號及區神父街3-5號望廈社屋(望善樓I、II) 一樓C1<br />電話: 2831 7292</div><div class=\"office-hour\"><div class=\"oh\">辦公時間: </div><div class=\"date\"><div class=\"w\">星期一至四</div><div class=\"t\">09:00 至 13:30<br />15:00 至 17:45</div><br /><div class=\"w\">星期五</div><div class=\"t\">09:00 至 13:30<br />15:00 至 17:30</div></div></div><div class=\"services clearfix\"><div class=\"t\">服務: </div><div class=\"ss\"><div class=\"s\">郵政信箱</div><div class=\"s\">郵政服務</div><div class=\"s\">特快專遞</div><div class=\"s\">包裹</div><div class=\"s\">繳費易</div></div></div></div><div class=\"post-item clearfix\" bid=\"preta\"><div class=\"desc\">黑沙環郵政分局</div><div class=\"address\">澳門祐漢新村第一街37號<br />電話: 2857 8590</div><div class=\"office-hour\"><div class=\"oh\">辦公時間: </div><div class=\"date\"><div class=\"w\">星期一至四</div><div class=\"t\">09:00 至 17:45</div><br /><div class=\"w\">星期五</div><div class=\"t\">09:00 至 17:30</div></div></div><div class=\"services clearfix\"><div class=\"t\">服務: </div><div class=\"ss\"><div class=\"s\">郵政信箱</div><div class=\"s\">郵政服務</div><div class=\"s\">特快專遞</div><div class=\"s\">包裹</div><div class=\"s\">繳費易</div></div></div></div><div class=\"post-item clearfix\" bid=\"cultural\"><div class=\"desc\">文化中心郵政分局</div><div class=\"address\">澳門冼星海大馬路文化中心<br />電話: 2875 1542</div><div class=\"office-hour\"><div class=\"oh\">辦公時間: </div><div class=\"date\"><div class=\"w\">星期一至五</div><div class=\"t\">12:00 至 19:00</div></div></div><div class=\"services clearfix\"><div class=\"t\">服務: </div><div class=\"ss\"><div class=\"s\">郵政服務</div><div class=\"s\">特快專遞</div><div class=\"s\">包裹</div><div class=\"s\">繳費易</div></div></div></div><div class=\"post-item clearfix\" bid=\"terminal\"><div class=\"desc\">碼頭郵政分局</div><div class=\"address\">澳門外港碼頭地下(入境層)<br />電話: 2872 8079</div><div class=\"office-hour\"><div class=\"oh\">辦公時間: </div><div class=\"date\"><div class=\"w\">星期一至六</div><div class=\"t\">11:00 至 18:00</div></div></div><div class=\"services clearfix\"><div class=\"t\">服務: </div><div class=\"ss\"><div class=\"s\">郵政服務</div><div class=\"s\">特快專遞</div><div class=\"s\">集郵品</div><div class=\"s\">包裹</div><div class=\"s\">匯款</div></div></div></div><div class=\"post-item clearfix\" bid=\"tradic\"><div class=\"desc\">郵政交換中心</div><div class=\"address\">馬交石炮台斜路<br />電話: 8598 5722</div><div class=\"office-hour\"><div class=\"oh\">辦公時間: </div><div class=\"date\"><div class=\"w\">星期一至四</div><div class=\"t\">09:00 至 13:00<br />14:30 至 17:45</div><br /><div class=\"w\">星期五</div><div class=\"t\">09:00 至 13:00<br />14:30 至 17:30</div></div></div><div class=\"services clearfix\"><div class=\"t\">服務: </div><div class=\"ss\"><div class=\"s\">投寄大量件服務</div></div></div></div><div class=\"post-item clearfix\" bid=\"muse\"><div class=\"desc\">通訊博物館商店</div><div class=\"address\">馬交石炮台馬路7號<br />電話: 8290 6049</div><div class=\"office-hour\"><div class=\"oh\">辦公時間: </div><div class=\"date\"><div class=\"w\">星期一至日</div><div class=\"t\">09:00 至 17:30</div></div></div><div class=\"services clearfix\"><div class=\"t\">服務: </div><div class=\"ss\"><div class=\"s\">郵政服務</div><div class=\"s\">集郵品</div><div class=\"s\">繳費易</div><div class=\"s\">匯款</div></div></div></div><div class=\"post-item clearfix\" bid=\"aeroporto\"><div class=\"desc\">機場郵政分局</div><div class=\"address\">氹仔機場客運大樓離境處1樓 <br />電話: 2886 1465</div><div class=\"office-hour\"><div class=\"oh\">辦公時間: </div><div class=\"date\"><div class=\"w\">星期一至六</div><div class=\"t\">10:00 至 19:00</div></div></div><div class=\"services clearfix\"><div class=\"t\">服務: </div><div class=\"ss\"><div class=\"s\">郵政服務</div><div class=\"s\">特快專遞</div><div class=\"s\">集郵品</div><div class=\"s\">包裹</div><div class=\"s\">匯款</div></div></div></div><div class=\"post-item clearfix\" bid=\"ntaipa\"><div class=\"desc\">濠景郵政分局</div><div class=\"address\">氹仔布拉干薩街濠景花園30座翠菊苑地下<br />電話: 2884 4038</div><div class=\"office-hour\"><div class=\"oh\">辦公時間: </div><div class=\"date\"><div class=\"w\">星期一至五</div><div class=\"t\">10:00 至 19:00</div><br /><div class=\"w\">星期六</div><div class=\"t\">10:00 至 14:00</div></div></div><div class=\"services clearfix\"><div class=\"t\">服務: </div><div class=\"ss\"><div class=\"s\">郵政服務</div><div class=\"s\">特快專遞</div><div class=\"s\">包裹</div><div class=\"s\">繳費易</div></div></div></div><div class=\"post-item clearfix\" bid=\"oceano\"><div class=\"desc\">海洋花園郵政分局</div><div class=\"address\">氹仔花園街海洋花園紫鵑苑地下<br />電話: 2881 3306</div><div class=\"office-hour\"><div class=\"oh\">辦公時間: </div><div class=\"date\"><div class=\"w\">星期一至五</div><div class=\"t\">12:00 至 19:00</div></div></div><div class=\"services clearfix\"><div class=\"t\">服務: </div><div class=\"ss\"><div class=\"s\">郵政信箱</div><div class=\"s\">郵政服務</div><div class=\"s\">特快專遞</div><div class=\"s\">包裹</div><div class=\"s\">繳費易</div><div class=\"s\">匯款</div></div></div></div><div class=\"post-item clearfix\" bid=\"carmo\"><div class=\"desc\">嘉模郵政分局 (前氹仔郵政分局)</div><div class=\"address\">氹仔嘉路士米耶馬路郵電局大樓\n",
    "\n",
    "<br />電話: 2882 7010</div><div class=\"office-hour\"><div class=\"oh\">辦公時間: </div><div class=\"date\"><div class=\"w\">星期一至五</div><div class=\"t\">11:30 至 19:00</div><br /><div class=\"w\">星期六</div><div class=\"t\">09:30 至 14:00</div></div></div><div class=\"services clearfix\"><div class=\"t\">服務: </div><div class=\"ss\"><div class=\"s\">郵政信箱</div><div class=\"s\">郵政服務</div><div class=\"s\">特快專遞</div><div class=\"s\">集郵品</div><div class=\"s\">包裹</div><div class=\"s\">繳費易</div></div></div></div><div class=\"post-item clearfix\" bid=\"teta\"><div class=\"desc\">氹仔碼頭郵政分局</div><div class=\"address\">氹仔客運碼頭 (入境大堂)<br />電話: 2850 0363</div><div class=\"office-hour\"><div class=\"oh\">辦公時間: </div><div class=\"date\"><div class=\"w\">星期一至六</div><div class=\"t\">11:00 至 18:00</div></div></div><div class=\"services clearfix\"><div class=\"t\">服務: </div><div class=\"ss\"><div class=\"s\">郵政服務</div><div class=\"s\">特快專遞</div><div class=\"s\">集郵品</div><div class=\"s\">包裹</div><div class=\"s\">匯款</div></div></div></div><div class=\"post-item clearfix\" bid=\"coloane\"><div class=\"desc\">路環郵政分局</div><div class=\"address\">路環打纜街郵電局大樓<br />電話: 2888 2010 </div><div class=\"office-hour\"><div class=\"oh\">辦公時間: </div><div class=\"date\"><div class=\"w\">星期一至四</div><div class=\"t\">09:00 至 12:00<br />13:30 至 17:45</div><br /><div class=\"w\">星期五</div><div class=\"t\">09:00 至 12:00<br />13:30 至 17:30</div></div></div><div class=\"services clearfix\"><div class=\"t\">服務: </div><div class=\"ss\"><div class=\"s\">郵政信箱</div><div class=\"s\">郵政服務</div><div class=\"s\">特快專遞</div><div class=\"s\">集郵品</div><div class=\"s\">包裹</div><div class=\"s\">繳費易</div><div class=\"s\">匯款</div></div></div></div><div class=\"post-item clearfix\" bid=\"seacpaivan\"><div class=\"desc\">石排灣郵政分局</div><div class=\"address\">路環業興一街業興大廈X座1樓A座<br />電話: 2850 2525</div><div class=\"office-hour\"><div class=\"oh\">辦公時間: </div><div class=\"date\"><div class=\"w\">星期一至五</div><div class=\"t\">12:00 至 19:00</div></div></div><div class=\"services clearfix\"><div class=\"t\">服務: </div><div class=\"ss\"><div class=\"s\">郵政服務</div><div class=\"s\">特快專遞</div><div class=\"s\">包裹</div><div class=\"s\">繳費易</div><div class=\"s\">匯款</div></div></div></div><div class=\"post-item clearfix\" bid=\"umac\"><div class=\"desc\">澳門大學郵政分局</div><div class=\"address\">澳門氹仔大學大馬路澳門大學薈萃坊地下G004室<br />電話: 2850 6323</div><div class=\"office-hour\"><div class=\"oh\">辦公時間: </div><div class=\"date\"><div class=\"w\">星期一至五</div><div class=\"t\">12:00 至 19:00</div></div></div><div class=\"services clearfix\"><div class=\"t\">服務: </div><div class=\"ss\"><div class=\"s\">郵政信箱</div><div class=\"s\">郵政服務</div><div class=\"s\">特快專遞</div><div class=\"s\">包裹</div><div class=\"s\">匯款</div></div></div></div>\n",
    "\"\"\""
   ]
  },
  {
   "cell_type": "code",
   "execution_count": 23,
   "metadata": {},
   "outputs": [],
   "source": [
    "soup_detail = BeautifulSoup(html_detail,\"html.parser\")"
   ]
  },
  {
   "cell_type": "code",
   "execution_count": 58,
   "metadata": {},
   "outputs": [],
   "source": [
    "#print(soup_detail.prettify())"
   ]
  },
  {
   "cell_type": "code",
   "execution_count": 52,
   "metadata": {},
   "outputs": [],
   "source": [
    "PO_detail_List = soup_detail.find_all(\"div\",\"address\")"
   ]
  },
  {
   "cell_type": "code",
   "execution_count": 55,
   "metadata": {},
   "outputs": [],
   "source": [
    "PO_detail =[]\n",
    "for j in PO_detail_List:\n",
    "    PO_detail.append(j.text)"
   ]
  },
  {
   "cell_type": "code",
   "execution_count": 56,
   "metadata": {},
   "outputs": [
    {
     "data": {
      "text/plain": [
       "['澳門議事亭前地郵電局總部大樓電話: 2832 3666 ',\n",
       " '澳門水坑尾街162號公共行政大樓地下電話: 2832 9334',\n",
       " '澳門雅廉訪大馬路92號地下電話: 2857 2329',\n",
       " '澳門沙梨頭南街筷子基社屋快達樓地下A舖電話: 2857 5818',\n",
       " '澳門慕拉士大馬路178-182號及區神父街3-5號望廈社屋(望善樓I、II) 一樓C1電話: 2831 7292',\n",
       " '澳門祐漢新村第一街37號電話: 2857 8590',\n",
       " '澳門冼星海大馬路文化中心電話: 2875 1542',\n",
       " '澳門外港碼頭地下(入境層)電話: 2872 8079',\n",
       " '馬交石炮台斜路電話: 8598 5722',\n",
       " '馬交石炮台馬路7號電話: 8290 6049',\n",
       " '氹仔機場客運大樓離境處1樓 電話: 2886 1465',\n",
       " '氹仔布拉干薩街濠景花園30座翠菊苑地下電話: 2884 4038',\n",
       " '氹仔花園街海洋花園紫鵑苑地下電話: 2881 3306',\n",
       " '氹仔嘉路士米耶馬路郵電局大樓\\n\\n電話: 2882 7010',\n",
       " '氹仔客運碼頭 (入境大堂)電話: 2850 0363',\n",
       " '路環打纜街郵電局大樓電話: 2888 2010 ',\n",
       " '路環業興一街業興大廈X座1樓A座電話: 2850 2525',\n",
       " '澳門氹仔大學大馬路澳門大學薈萃坊地下G004室電話: 2850 6323']"
      ]
     },
     "execution_count": 56,
     "metadata": {},
     "output_type": "execute_result"
    }
   ],
   "source": [
    "PO_detail"
   ]
  },
  {
   "cell_type": "code",
   "execution_count": 62,
   "metadata": {},
   "outputs": [],
   "source": [
    "a = pd.DataFrame(columns = ['名稱','地址','坐標'])"
   ]
  },
  {
   "cell_type": "code",
   "execution_count": 63,
   "metadata": {},
   "outputs": [],
   "source": [
    "a['名稱']=PO_Name\n",
    "a['地址']=PO_detail\n",
    "a['坐標']=PO_Coor"
   ]
  },
  {
   "cell_type": "code",
   "execution_count": 64,
   "metadata": {},
   "outputs": [
    {
     "data": {
      "text/html": [
       "<div>\n",
       "<style scoped>\n",
       "    .dataframe tbody tr th:only-of-type {\n",
       "        vertical-align: middle;\n",
       "    }\n",
       "\n",
       "    .dataframe tbody tr th {\n",
       "        vertical-align: top;\n",
       "    }\n",
       "\n",
       "    .dataframe thead th {\n",
       "        text-align: right;\n",
       "    }\n",
       "</style>\n",
       "<table border=\"1\" class=\"dataframe\">\n",
       "  <thead>\n",
       "    <tr style=\"text-align: right;\">\n",
       "      <th></th>\n",
       "      <th>名稱</th>\n",
       "      <th>地址</th>\n",
       "      <th>坐標</th>\n",
       "    </tr>\n",
       "  </thead>\n",
       "  <tbody>\n",
       "    <tr>\n",
       "      <th>0</th>\n",
       "      <td>郵政總局</td>\n",
       "      <td>澳門議事亭前地郵電局總部大樓電話: 2832 3666</td>\n",
       "      <td>22.193341,113.540032</td>\n",
       "    </tr>\n",
       "    <tr>\n",
       "      <th>1</th>\n",
       "      <td>水坑尾郵政分局</td>\n",
       "      <td>澳門水坑尾街162號公共行政大樓地下電話: 2832 9334</td>\n",
       "      <td>22.194153,113.543846</td>\n",
       "    </tr>\n",
       "    <tr>\n",
       "      <th>2</th>\n",
       "      <td>紅街市郵政分局</td>\n",
       "      <td>澳門雅廉訪大馬路92號地下電話: 2857 2329</td>\n",
       "      <td>22.206105,113.545332</td>\n",
       "    </tr>\n",
       "    <tr>\n",
       "      <th>3</th>\n",
       "      <td>筷子基郵政分局</td>\n",
       "      <td>澳門沙梨頭南街筷子基社屋快達樓地下A舖電話: 2857 5818</td>\n",
       "      <td>22.207614, 113.542484</td>\n",
       "    </tr>\n",
       "    <tr>\n",
       "      <th>4</th>\n",
       "      <td>望廈郵政分局</td>\n",
       "      <td>澳門慕拉士大馬路178-182號及區神父街3-5號望廈社屋(望善樓I、II) 一樓C1電話:...</td>\n",
       "      <td>22.207257,113.552058</td>\n",
       "    </tr>\n",
       "    <tr>\n",
       "      <th>5</th>\n",
       "      <td>黑沙環郵政分局</td>\n",
       "      <td>澳門祐漢新村第一街37號電話: 2857 8590</td>\n",
       "      <td>22.211206,113.54943</td>\n",
       "    </tr>\n",
       "    <tr>\n",
       "      <th>6</th>\n",
       "      <td>文化中心郵政分局</td>\n",
       "      <td>澳門冼星海大馬路文化中心電話: 2875 1542</td>\n",
       "      <td>22.188493,113.554644</td>\n",
       "    </tr>\n",
       "    <tr>\n",
       "      <th>7</th>\n",
       "      <td>碼頭郵政分局</td>\n",
       "      <td>澳門外港碼頭地下(入境層)電話: 2872 8079</td>\n",
       "      <td>22.197091,113.558914</td>\n",
       "    </tr>\n",
       "    <tr>\n",
       "      <th>8</th>\n",
       "      <td>郵政交換中心</td>\n",
       "      <td>馬交石炮台斜路電話: 8598 5722</td>\n",
       "      <td>22.203473,113.556007</td>\n",
       "    </tr>\n",
       "    <tr>\n",
       "      <th>9</th>\n",
       "      <td>通訊博物館商店</td>\n",
       "      <td>馬交石炮台馬路7號電話: 8290 6049</td>\n",
       "      <td>22.203269,113.554902</td>\n",
       "    </tr>\n",
       "    <tr>\n",
       "      <th>10</th>\n",
       "      <td>機場郵政分局</td>\n",
       "      <td>氹仔機場客運大樓離境處1樓 電話: 2886 1465</td>\n",
       "      <td>22.157291,113.573847</td>\n",
       "    </tr>\n",
       "    <tr>\n",
       "      <th>11</th>\n",
       "      <td>濠景郵政分局</td>\n",
       "      <td>氹仔布拉干薩街濠景花園30座翠菊苑地下電話: 2884 4038</td>\n",
       "      <td>22.158883,113.552641</td>\n",
       "    </tr>\n",
       "    <tr>\n",
       "      <th>12</th>\n",
       "      <td>海洋花園郵政分局</td>\n",
       "      <td>氹仔花園街海洋花園紫鵑苑地下電話: 2881 3306</td>\n",
       "      <td>22.161367,113.543027</td>\n",
       "    </tr>\n",
       "    <tr>\n",
       "      <th>13</th>\n",
       "      <td>嘉模郵政分局 (前氹仔郵政分局)</td>\n",
       "      <td>氹仔嘉路士米耶馬路郵電局大樓\\n\\n電話: 2882 7010</td>\n",
       "      <td>22.152916,113.558177</td>\n",
       "    </tr>\n",
       "    <tr>\n",
       "      <th>14</th>\n",
       "      <td>氹仔碼頭郵政分局</td>\n",
       "      <td>氹仔客運碼頭 (入境大堂)電話: 2850 0363</td>\n",
       "      <td>22.162623, 113.577874</td>\n",
       "    </tr>\n",
       "    <tr>\n",
       "      <th>15</th>\n",
       "      <td>路環郵政分局</td>\n",
       "      <td>路環打纜街郵電局大樓電話: 2888 2010</td>\n",
       "      <td>22.117305,113.552179</td>\n",
       "    </tr>\n",
       "    <tr>\n",
       "      <th>16</th>\n",
       "      <td>石排灣郵政分局</td>\n",
       "      <td>路環業興一街業興大廈X座1樓A座電話: 2850 2525</td>\n",
       "      <td>22.129184, 113.563919</td>\n",
       "    </tr>\n",
       "    <tr>\n",
       "      <th>17</th>\n",
       "      <td>澳門大學郵政分局</td>\n",
       "      <td>澳門氹仔大學大馬路澳門大學薈萃坊地下G004室電話: 2850 6323</td>\n",
       "      <td>22.12430736953878,113.5444602370262</td>\n",
       "    </tr>\n",
       "  </tbody>\n",
       "</table>\n",
       "</div>"
      ],
      "text/plain": [
       "                  名稱                                                 地址  \\\n",
       "0               郵政總局                       澳門議事亭前地郵電局總部大樓電話: 2832 3666    \n",
       "1            水坑尾郵政分局                    澳門水坑尾街162號公共行政大樓地下電話: 2832 9334   \n",
       "2            紅街市郵政分局                         澳門雅廉訪大馬路92號地下電話: 2857 2329   \n",
       "3            筷子基郵政分局                   澳門沙梨頭南街筷子基社屋快達樓地下A舖電話: 2857 5818   \n",
       "4             望廈郵政分局  澳門慕拉士大馬路178-182號及區神父街3-5號望廈社屋(望善樓I、II) 一樓C1電話:...   \n",
       "5            黑沙環郵政分局                          澳門祐漢新村第一街37號電話: 2857 8590   \n",
       "6           文化中心郵政分局                          澳門冼星海大馬路文化中心電話: 2875 1542   \n",
       "7             碼頭郵政分局                         澳門外港碼頭地下(入境層)電話: 2872 8079   \n",
       "8             郵政交換中心                               馬交石炮台斜路電話: 8598 5722   \n",
       "9            通訊博物館商店                             馬交石炮台馬路7號電話: 8290 6049   \n",
       "10            機場郵政分局                        氹仔機場客運大樓離境處1樓 電話: 2886 1465   \n",
       "11            濠景郵政分局                   氹仔布拉干薩街濠景花園30座翠菊苑地下電話: 2884 4038   \n",
       "12          海洋花園郵政分局                        氹仔花園街海洋花園紫鵑苑地下電話: 2881 3306   \n",
       "13  嘉模郵政分局 (前氹仔郵政分局)                    氹仔嘉路士米耶馬路郵電局大樓\\n\\n電話: 2882 7010   \n",
       "14          氹仔碼頭郵政分局                         氹仔客運碼頭 (入境大堂)電話: 2850 0363   \n",
       "15            路環郵政分局                           路環打纜街郵電局大樓電話: 2888 2010    \n",
       "16           石排灣郵政分局                      路環業興一街業興大廈X座1樓A座電話: 2850 2525   \n",
       "17          澳門大學郵政分局               澳門氹仔大學大馬路澳門大學薈萃坊地下G004室電話: 2850 6323   \n",
       "\n",
       "                                     坐標  \n",
       "0                  22.193341,113.540032  \n",
       "1                  22.194153,113.543846  \n",
       "2                  22.206105,113.545332  \n",
       "3                 22.207614, 113.542484  \n",
       "4                  22.207257,113.552058  \n",
       "5                   22.211206,113.54943  \n",
       "6                  22.188493,113.554644  \n",
       "7                  22.197091,113.558914  \n",
       "8                  22.203473,113.556007  \n",
       "9                  22.203269,113.554902  \n",
       "10                 22.157291,113.573847  \n",
       "11                 22.158883,113.552641  \n",
       "12                 22.161367,113.543027  \n",
       "13                 22.152916,113.558177  \n",
       "14                22.162623, 113.577874  \n",
       "15                 22.117305,113.552179  \n",
       "16                22.129184, 113.563919  \n",
       "17  22.12430736953878,113.5444602370262  "
      ]
     },
     "execution_count": 64,
     "metadata": {},
     "output_type": "execute_result"
    }
   ],
   "source": [
    "a"
   ]
  },
  {
   "cell_type": "code",
   "execution_count": 65,
   "metadata": {},
   "outputs": [],
   "source": [
    "writer = pd.ExcelWriter('C:/Users/chenyit/Documents/01_TomTom/00_Project/POI/HKG/Source Data/Post Office/PO_MCPost_20181008.xlsx')\n",
    "a.to_excel(writer,'Sheet1')\n",
    "writer.save()"
   ]
  },
  {
   "cell_type": "code",
   "execution_count": null,
   "metadata": {},
   "outputs": [],
   "source": []
  }
 ],
 "metadata": {
  "kernelspec": {
   "display_name": "Python 3",
   "language": "python",
   "name": "python3"
  },
  "language_info": {
   "codemirror_mode": {
    "name": "ipython",
    "version": 3
   },
   "file_extension": ".py",
   "mimetype": "text/x-python",
   "name": "python",
   "nbconvert_exporter": "python",
   "pygments_lexer": "ipython3",
   "version": "3.8.5"
  }
 },
 "nbformat": 4,
 "nbformat_minor": 2
}
